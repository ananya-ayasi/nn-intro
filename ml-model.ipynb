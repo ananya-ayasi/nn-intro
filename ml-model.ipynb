#import the necessary packages
import tensorflow as tf  
import numpy as np
from tensorflow import keras
# Keras is a framework for defining a neural net as a set of sequential layers.

#code necessary to define the neural network
model = tf.keras.Sequential([keras.layers.Dense(units=1, input_shape=[1])])
# one layer with one neuron and the shape to it has only one value
model.compile(optimizer='sgd', loss='mean_squared_error')
#loss function: measures the guessed answers against the known correct answers and measures the accuracy
#optimizer function: based on the loss function, it tries to minimize the the loss. sgd- stochastic gradient descent
xs = np.array([-1.0, 0.0, 1.0, 2.0, 3.0, 4.0], dtype=float)
ys = np.array([-2.0, 1.0, 4.0, 7.0, 10.0, 13.0], dtype=float)
#training data


#code necessary to train the neural net
model.fit(xs, ys, epochs=500)
#This is the process of training the NN. It goes through the loop, measuring loss and optimizing, for the number of epochs specified.
#A number can be input, to test the model
test = float(input("Enter any number "))
#prints the value of y for the test number.
print(model.predict([test]))
