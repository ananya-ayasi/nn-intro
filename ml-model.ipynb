import tensorflow as tf  
import numpy as np
from tensorflow import keras
# Keras is a framework for defining a neural net as a set of sequential layers.
model = tf.keras.Sequential([keras.layers.Dense(units=1, input_shape=[1])])
# one layer with one neuron and the shape to it has only one value
