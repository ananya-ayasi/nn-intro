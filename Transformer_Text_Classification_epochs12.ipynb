{
  "nbformat": 4,
  "nbformat_minor": 0,
  "metadata": {
    "colab": {
      "name": "Transformer_Text_Classification_epochs12.ipynb",
      "provenance": [],
      "collapsed_sections": [],
      "authorship_tag": "ABX9TyMA7d+F7yXTAAP6PGxsIixN",
      "include_colab_link": true
    },
    "kernelspec": {
      "name": "python3",
      "display_name": "Python 3"
    },
    "language_info": {
      "name": "python"
    }
  },
  "cells": [
    {
      "cell_type": "markdown",
      "metadata": {
        "id": "view-in-github",
        "colab_type": "text"
      },
      "source": [
        "<a href=\"https://colab.research.google.com/github/ananya-ayasi/nn-intro/blob/main/Transformer_Text_Classification_epochs12.ipynb\" target=\"_parent\"><img src=\"https://colab.research.google.com/assets/colab-badge.svg\" alt=\"Open In Colab\"/></a>"
      ]
    },
    {
      "cell_type": "markdown",
      "metadata": {
        "id": "mbyMmKH2ROkQ"
      },
      "source": [
        "Text Classification with Transformer"
      ]
    },
    {
      "cell_type": "code",
      "metadata": {
        "id": "RMGbhWAKRJeS"
      },
      "source": [
        "import tensorflow as tf\n",
        "from tensorflow import keras\n",
        "from tensorflow.keras import layers"
      ],
      "execution_count": 10,
      "outputs": []
    },
    {
      "cell_type": "code",
      "metadata": {
        "id": "KiBopn88WqWk"
      },
      "source": [
        "import matplotlib.pyplot as plt"
      ],
      "execution_count": 11,
      "outputs": []
    },
    {
      "cell_type": "code",
      "metadata": {
        "id": "bAnyaz88RSqU"
      },
      "source": [
        "class TransformerBlock(layers.Layer):\n",
        "    def __init__(self, embed_dim, num_heads, ff_dim, rate=0.1):\n",
        "        super(TransformerBlock, self).__init__()\n",
        "        self.att = layers.MultiHeadAttention(num_heads=num_heads, key_dim=embed_dim)\n",
        "        self.ffn = keras.Sequential(\n",
        "            [layers.Dense(ff_dim, activation=\"relu\"), layers.Dense(embed_dim),]\n",
        "        )\n",
        "        self.layernorm1 = layers.LayerNormalization(epsilon=1e-6)\n",
        "        self.layernorm2 = layers.LayerNormalization(epsilon=1e-6)\n",
        "        self.dropout1 = layers.Dropout(rate)\n",
        "        self.dropout2 = layers.Dropout(rate)\n",
        "\n",
        "    def call(self, inputs, training):\n",
        "        attn_output = self.att(inputs, inputs)\n",
        "        attn_output = self.dropout1(attn_output, training=training)\n",
        "        out1 = self.layernorm1(inputs + attn_output)\n",
        "        ffn_output = self.ffn(out1)\n",
        "        ffn_output = self.dropout2(ffn_output, training=training)\n",
        "        return self.layernorm2(out1 + ffn_output)"
      ],
      "execution_count": 2,
      "outputs": []
    },
    {
      "cell_type": "code",
      "metadata": {
        "id": "4VeW-yheRbTN"
      },
      "source": [
        "class TokenAndPositionEmbedding(layers.Layer):\n",
        "    def __init__(self, maxlen, vocab_size, embed_dim):\n",
        "        super(TokenAndPositionEmbedding, self).__init__()\n",
        "        self.token_emb = layers.Embedding(input_dim=vocab_size, output_dim=embed_dim)\n",
        "        self.pos_emb = layers.Embedding(input_dim=maxlen, output_dim=embed_dim)\n",
        "\n",
        "    def call(self, x):\n",
        "        maxlen = tf.shape(x)[-1]\n",
        "        positions = tf.range(start=0, limit=maxlen, delta=1)\n",
        "        positions = self.pos_emb(positions)\n",
        "        x = self.token_emb(x)\n",
        "        return x + positions"
      ],
      "execution_count": 12,
      "outputs": []
    },
    {
      "cell_type": "code",
      "metadata": {
        "colab": {
          "base_uri": "https://localhost:8080/"
        },
        "id": "M7UwXEmJRgQl",
        "outputId": "306324aa-0506-4e58-b41c-4e1266c9a503"
      },
      "source": [
        "vocab_size = 20000  # Only consider the top 20k words\n",
        "maxlen = 200  # Only consider the first 200 words of each movie review\n",
        "(x_train, y_train), (x_val, y_val) = keras.datasets.imdb.load_data(num_words=vocab_size)\n",
        "print(len(x_train), \"Training sequences\")\n",
        "print(len(x_val), \"Validation sequences\")\n",
        "x_train = keras.preprocessing.sequence.pad_sequences(x_train, maxlen=maxlen)\n",
        "x_val = keras.preprocessing.sequence.pad_sequences(x_val, maxlen=maxlen)"
      ],
      "execution_count": 13,
      "outputs": [
        {
          "output_type": "stream",
          "text": [
            "25000 Training sequences\n",
            "25000 Validation sequences\n"
          ],
          "name": "stdout"
        }
      ]
    },
    {
      "cell_type": "code",
      "metadata": {
        "id": "IpbSy6gcSiQJ"
      },
      "source": [
        "embed_dim = 32  # Embedding size for each token\n",
        "num_heads = 2  # Number of attention heads\n",
        "ff_dim = 32  # Hidden layer size in feed forward network inside transformer\n",
        "\n",
        "inputs = layers.Input(shape=(maxlen,))\n",
        "embedding_layer = TokenAndPositionEmbedding(maxlen, vocab_size, embed_dim)\n",
        "x = embedding_layer(inputs)\n",
        "transformer_block = TransformerBlock(embed_dim, num_heads, ff_dim)\n",
        "x = transformer_block(x)\n",
        "x = layers.GlobalAveragePooling1D()(x)\n",
        "x = layers.Dropout(0.1)(x)\n",
        "x = layers.Dense(20, activation=\"relu\")(x)\n",
        "x = layers.Dropout(0.1)(x)\n",
        "outputs = layers.Dense(2, activation=\"softmax\")(x)\n",
        "\n",
        "model = keras.Model(inputs=inputs, outputs=outputs)"
      ],
      "execution_count": 14,
      "outputs": []
    },
    {
      "cell_type": "code",
      "metadata": {
        "colab": {
          "base_uri": "https://localhost:8080/"
        },
        "id": "WZs-8mGaSrtG",
        "outputId": "12b6c00b-9604-44f5-e62a-0d5effc83ca3"
      },
      "source": [
        "model.compile(\"adam\", \"sparse_categorical_crossentropy\", metrics=[\"accuracy\"])\n",
        "history = model.fit(\n",
        "    x_train, y_train, batch_size=32, epochs=12, validation_data=(x_val, y_val)\n",
        ")"
      ],
      "execution_count": 20,
      "outputs": [
        {
          "output_type": "stream",
          "text": [
            "Epoch 1/12\n",
            "782/782 [==============================] - 116s 147ms/step - loss: 0.0115 - accuracy: 0.9960 - val_loss: 1.1516 - val_accuracy: 0.8273\n",
            "Epoch 2/12\n",
            "782/782 [==============================] - 115s 147ms/step - loss: 0.0063 - accuracy: 0.9984 - val_loss: 1.0965 - val_accuracy: 0.8254\n",
            "Epoch 3/12\n",
            "782/782 [==============================] - 114s 146ms/step - loss: 0.0059 - accuracy: 0.9982 - val_loss: 1.1507 - val_accuracy: 0.8208\n",
            "Epoch 4/12\n",
            "782/782 [==============================] - 114s 146ms/step - loss: 0.0048 - accuracy: 0.9988 - val_loss: 1.4877 - val_accuracy: 0.8232\n",
            "Epoch 5/12\n",
            "782/782 [==============================] - 115s 147ms/step - loss: 0.0038 - accuracy: 0.9988 - val_loss: 1.1288 - val_accuracy: 0.8180\n",
            "Epoch 6/12\n",
            "782/782 [==============================] - 114s 146ms/step - loss: 0.0048 - accuracy: 0.9984 - val_loss: 1.6103 - val_accuracy: 0.8148\n",
            "Epoch 7/12\n",
            "782/782 [==============================] - 114s 146ms/step - loss: 0.0040 - accuracy: 0.9987 - val_loss: 1.3233 - val_accuracy: 0.8217\n",
            "Epoch 8/12\n",
            "782/782 [==============================] - 114s 146ms/step - loss: 0.0036 - accuracy: 0.9990 - val_loss: 1.5314 - val_accuracy: 0.8178\n",
            "Epoch 9/12\n",
            "782/782 [==============================] - 114s 146ms/step - loss: 0.0014 - accuracy: 0.9998 - val_loss: 1.8018 - val_accuracy: 0.8196\n",
            "Epoch 10/12\n",
            "782/782 [==============================] - 114s 146ms/step - loss: 0.0013 - accuracy: 0.9996 - val_loss: 1.7882 - val_accuracy: 0.8071\n",
            "Epoch 11/12\n",
            "782/782 [==============================] - 113s 145ms/step - loss: 0.0043 - accuracy: 0.9988 - val_loss: 1.2640 - val_accuracy: 0.8205\n",
            "Epoch 12/12\n",
            "782/782 [==============================] - 115s 147ms/step - loss: 0.0033 - accuracy: 0.9988 - val_loss: 1.6657 - val_accuracy: 0.8164\n"
          ],
          "name": "stdout"
        }
      ]
    },
    {
      "cell_type": "code",
      "metadata": {
        "colab": {
          "base_uri": "https://localhost:8080/",
          "height": 297
        },
        "id": "ln2MAZtzWYqc",
        "outputId": "682f1d2e-c727-4366-d642-45eedc20f3e5"
      },
      "source": [
        "plt.plot(history.history['accuracy'], label='Train Accuracy')\n",
        "plt.plot(history.history['val_accuracy'], label='Validation Accuracy')\n",
        "plt.xlabel('Epochs')\n",
        "plt.ylabel('Accuracy')\n",
        "plt.legend()"
      ],
      "execution_count": 21,
      "outputs": [
        {
          "output_type": "execute_result",
          "data": {
            "text/plain": [
              "<matplotlib.legend.Legend at 0x7f96476bb1d0>"
            ]
          },
          "metadata": {},
          "execution_count": 21
        },
        {
          "output_type": "display_data",
          "data": {
            "image/png": "[encoded data removed]",
            "text/plain": [
              "<Figure size 432x288 with 1 Axes>"
            ]
          },
          "metadata": {
            "needs_background": "light"
          }
        }
      ]
    },
    {
      "cell_type": "code",
      "metadata": {
        "colab": {
          "base_uri": "https://localhost:8080/"
        },
        "id": "loTG67v6YvB5",
        "outputId": "3bb61160-ebc0-485a-bad4-72fd497ae499"
      },
      "source": [
        "print(\"\\nTesting ...\")\n",
        "score, accuracy = model.evaluate(x_val, y_val, batch_size=64, verbose=1)\n",
        "print(\"Test loss:  \", score)\n",
        "print(\"Test accuracy:  \", accuracy)"
      ],
      "execution_count": 22,
      "outputs": [
        {
          "output_type": "stream",
          "text": [
            "\n",
            "Testing ...\n",
            "391/391 [==============================] - 31s 79ms/step - loss: 1.6657 - accuracy: 0.8164\n",
            "Test loss:   1.6657205820083618\n",
            "Test accuracy:   0.8164399862289429\n"
          ],
          "name": "stdout"
        }
      ]
    }
  ]
}